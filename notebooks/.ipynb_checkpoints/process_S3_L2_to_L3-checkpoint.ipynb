{
 "cells": [
  {
   "cell_type": "code",
   "execution_count": null,
   "id": "3ca71341-971e-4287-93ce-4c3d545539c2",
   "metadata": {},
   "outputs": [],
   "source": [
    "# Set the time span of interest\n",
    "# Read station file to parse the coordinates of stations\n",
    "# Iterate over L2 products to extract chl-a values at stations\n",
    "# Add chl-a value to a table with stations/dates\n",
    "# Plot or produce data output"
   ]
  },
  {
   "cell_type": "code",
   "execution_count": null,
   "id": "bceb3d42-9690-417a-b024-4f4be25e96b8",
   "metadata": {},
   "outputs": [],
   "source": [
    "# https://stackoverflow.com/questions/52293759/snappy-wrong-conversion-from-pixel-to-lat-long\n",
    "# https://forum.step.esa.int/t/extracting-pixel-values-sentinel-2a-l2a-with-snap-or-snappy/29878/4"
   ]
  },
  {
   "cell_type": "code",
   "execution_count": 1,
   "id": "1ae8949b-d4d8-49ca-9662-fba28fa6eb1f",
   "metadata": {},
   "outputs": [
    {
     "name": "stderr",
     "output_type": "stream",
     "text": [
      "INFO: org.esa.snap.core.gpf.operators.tooladapter.ToolAdapterIO: Initializing external tool adapters\n",
      "INFO: org.esa.snap.core.util.EngineVersionCheckActivator: Please check regularly for new updates for the best SNAP experience.\n",
      "WARNING: org.esa.snap.core.util.EngineVersionCheckActivator: A new SNAP version is available for download.\n",
      "Currently installed 9.0.0, available is 10.0.0.\n",
      "Please visit http://step.esa.int\n",
      "\n"
     ]
    }
   ],
   "source": [
    "import os\n",
    "import zipfile\n",
    "import numpy as np\n",
    "from PIL import Image\n",
    "from datetime import date\n",
    "import matplotlib.pyplot as plt\n",
    "import xarray as xr\n",
    "from pathlib import Path\n",
    "from datetime import date, timedelta\n",
    "import shutil\n",
    "import pandas as pd\n",
    "import seaborn as sns\n",
    "\n",
    "\n",
    "from snappy import ProductIO, GPF, HashMap, ProductUtils, PixelPos, GeoPos, ProductData, jpy\n",
    "from sentinelsat import SentinelAPI, read_geojson, geojson_to_wkt, make_path_filter\n",
    "\n",
    "%matplotlib inline"
   ]
  },
  {
   "cell_type": "code",
   "execution_count": 2,
   "id": "731c24c5-4232-4e36-97f6-9bb603ce293e",
   "metadata": {},
   "outputs": [],
   "source": [
    "S3_ROOT_FOLDER = Path('/home/jovyan/earth-observations/notebooks')\n",
    "ROI = 'indre-oslofjord'\n",
    "\n",
    "DATE_START = date(2024, 3, 18)\n",
    "END_DATE = date(2024, 3, 23)\n",
    "\n",
    "STATIONS_FOLDER = S3_ROOT_FOLDER / 'stations'\n",
    "STATIONS_FILENAME = 'stations_indre_oslofjord.csv'"
   ]
  },
  {
   "cell_type": "code",
   "execution_count": null,
   "id": "9712e33b-ca1c-4509-b19d-ff08a990541f",
   "metadata": {},
   "outputs": [],
   "source": [
    "def start_processing(start_date, end_date):\n",
    "    \n",
    "    delta = end_date - start_date\n",
    "    \n",
    "    # Iterate over each day in the range\n",
    "    for i in range(delta.days + 1):\n",
    "        \n",
    "        current_date = start_date + timedelta(days=i)\n",
    "        \n",
    "        source_folder = S3_ROOT_FOLDER / 'S3' / 'L2' / ROI / '2024/March' / 18 / 'C2RCC/S3B.dim'\n",
    "        \n",
    "        # Extract metadata from the filename\n",
    "        year, month, day =  str(current_date.year), current_date.strftime('%B'), str(current_date.day)\n",
    "        \n",
    "        # Construct the destination folder path\n",
    "        destination_folder = S3_ROOT_FOLDER / 'S3' / 'L1' / roi / year / month / day\n",
    "        \n",
    "        # Create the destination folder if it doesn't exist\n",
    "        if destination_folder.exists() and any(destination_folder.iterdir()):\n",
    "            print(f\"Skipping download. Destination folder {destination_folder} already exists and is not empty\")\n",
    "            continue\n",
    "        \n",
    "        products = query_products(footprint, current_date, current_date + timedelta(days=1))\n",
    "        \n",
    "        print(current_date, \": \" + str(len(products)) + \" products\")\n",
    "        \n",
    "        api.download_all(products)\n",
    "        \n",
    "        move_downloaded_files(destination_folder, roi)\n",
    "    \n",
    "    print(\"Done!\")"
   ]
  },
  {
   "cell_type": "code",
   "execution_count": null,
   "id": "cf6ea825-02de-4ba5-9dff-b23a179043c5",
   "metadata": {},
   "outputs": [],
   "source": [
    "for day in list_days_in_month(YEAR, MONTH):\n",
    "    \n",
    "    current_source_folder = INPUT_FOLDER / str(day)\n",
    "\n",
    "    if current_source_folder.exists() and current_source_folder.is_dir():\n",
    "        \n",
    "        current_destination_folder = OUTPUT_FOLDER / str(day) / ALGORITHM \n",
    "        \n",
    "        if current_destination_folder.exists() and current_destination_folder.is_dir():\n",
    "            # L2 product was already created. Skip\n",
    "            print(\"L2 product already exist at destination. Skipping\")\n",
    "            continue\n",
    "        \n",
    "        try:\n",
    "            S3A_folder = [f for f in current_source_folder.iterdir() if f.is_dir() and f.name.startswith(\"S3A\")][0]\n",
    "            S3B_folder = [f for f in current_source_folder.iterdir() if f.is_dir() and f.name.startswith(\"S3B\")][0]\n",
    "        \n",
    "            start_processing_L1(S3A_folder, str(day), \"S3A\")\n",
    "            start_processing_L1(S3B_folder, str(day), \"S3B\")\n",
    "            \n",
    "        except IndexError:\n",
    "            print(\"Less than the two expected products\")\n",
    "        \n",
    "    else:\n",
    "        print(f\"S3 L1 product for {day} of {MONTH} {YEAR} not found. Skipping\")"
   ]
  },
  {
   "cell_type": "code",
   "execution_count": 43,
   "id": "60ddbfa5-6157-44b5-9851-afe26ba39c76",
   "metadata": {},
   "outputs": [],
   "source": [
    "def read_BEAM(filename):\n",
    "    reader = ProductIO.getProductReader('BEAM-DIMAP')\n",
    "    return ProductIO.readProduct(str(filename))\n",
    "\n",
    "FILENAME = S3_ROOT_FOLDER / 'S3' / 'L2' / ROI / '2024/March/18/C2RCC/S3B.dim'\n",
    "p = read_BEAM(FILENAME)"
   ]
  },
  {
   "cell_type": "code",
   "execution_count": 4,
   "id": "73063513-f75e-409b-a245-4f6c6dc9f8e1",
   "metadata": {},
   "outputs": [],
   "source": [
    "# print(list(p.getBandNames()))"
   ]
  },
  {
   "cell_type": "code",
   "execution_count": 5,
   "id": "ef934615-e9c6-4560-aa58-69c5161c792f",
   "metadata": {},
   "outputs": [],
   "source": [
    "df_stations = pd.read_csv(STATIONS_FOLDER / STATIONS_FILENAME)"
   ]
  },
  {
   "cell_type": "code",
   "execution_count": 7,
   "id": "911ff6a4-ac27-471a-9f8c-1bb048e383ba",
   "metadata": {},
   "outputs": [],
   "source": [
    "columns = ['station', 'station_name', 'lat', 'lon', 'year', 'month', 'day', 'chl-a', 'source']\n",
    "\n",
    "# Create an empty DataFrame with the specified columns\n",
    "df = pd.DataFrame(columns=columns)"
   ]
  },
  {
   "cell_type": "code",
   "execution_count": 44,
   "id": "fdd68920-1b86-4e45-bbad-5b3e563bec0f",
   "metadata": {},
   "outputs": [],
   "source": [
    "# Iterate over rows using iterrows()\n",
    "for index, row in df_stations.iterrows():\n",
    "    \n",
    "    new_row = pd.Series({'station': row['station'], \n",
    "                         'station_name': row['station_name'], \n",
    "                         'lat': row['latitude'], \n",
    "                         'lon': row['longitude'], \n",
    "                         'year': 2024, \n",
    "                         'month': 3, \n",
    "                         'day': 18, \n",
    "                         'chl-a': get_chl_from_lat_lon(p, row['latitude'], row['longitude'])[0],\n",
    "                         'source': 'satellite'})\n",
    "\n",
    "\n",
    "    df = pd.concat([df, new_row.to_frame().T], ignore_index=True)\n",
    "    \n",
    "    # print(f\"Name: {row['station_name']}, Lat: {row['latitude']}, Lon: {row['longitude']} -> chl {get_chl_from_lat_lon(p, row['latitude'], row['longitude'])}\")"
   ]
  },
  {
   "cell_type": "code",
   "execution_count": 37,
   "id": "14f6e797-6755-41f6-8e07-06e1266f74e1",
   "metadata": {},
   "outputs": [
    {
     "data": {
      "text/html": [
       "<div>\n",
       "<style scoped>\n",
       "    .dataframe tbody tr th:only-of-type {\n",
       "        vertical-align: middle;\n",
       "    }\n",
       "\n",
       "    .dataframe tbody tr th {\n",
       "        vertical-align: top;\n",
       "    }\n",
       "\n",
       "    .dataframe thead th {\n",
       "        text-align: right;\n",
       "    }\n",
       "</style>\n",
       "<table border=\"1\" class=\"dataframe\">\n",
       "  <thead>\n",
       "    <tr style=\"text-align: right;\">\n",
       "      <th></th>\n",
       "      <th>station</th>\n",
       "      <th>station_name</th>\n",
       "      <th>lat</th>\n",
       "      <th>lon</th>\n",
       "      <th>year</th>\n",
       "      <th>month</th>\n",
       "      <th>day</th>\n",
       "      <th>chl-a</th>\n",
       "      <th>source</th>\n",
       "    </tr>\n",
       "  </thead>\n",
       "  <tbody>\n",
       "    <tr>\n",
       "      <th>0</th>\n",
       "      <td>Ap1</td>\n",
       "      <td>Frognerkilen</td>\n",
       "      <td>59.909017</td>\n",
       "      <td>10.701133</td>\n",
       "      <td>2024</td>\n",
       "      <td>3</td>\n",
       "      <td>22</td>\n",
       "      <td>14.593688</td>\n",
       "      <td>satellite</td>\n",
       "    </tr>\n",
       "    <tr>\n",
       "      <th>1</th>\n",
       "      <td>Ap2</td>\n",
       "      <td>Kavringen</td>\n",
       "      <td>59.899</td>\n",
       "      <td>10.718</td>\n",
       "      <td>2024</td>\n",
       "      <td>3</td>\n",
       "      <td>22</td>\n",
       "      <td>18.046536</td>\n",
       "      <td>satellite</td>\n",
       "    </tr>\n",
       "    <tr>\n",
       "      <th>2</th>\n",
       "      <td>Ap3</td>\n",
       "      <td>Skurven</td>\n",
       "      <td>59.89805</td>\n",
       "      <td>10.70103</td>\n",
       "      <td>2024</td>\n",
       "      <td>3</td>\n",
       "      <td>22</td>\n",
       "      <td>18.561042</td>\n",
       "      <td>satellite</td>\n",
       "    </tr>\n",
       "    <tr>\n",
       "      <th>3</th>\n",
       "      <td>Ap4</td>\n",
       "      <td>Tjuvholmen</td>\n",
       "      <td>59.9083</td>\n",
       "      <td>10.7192</td>\n",
       "      <td>2024</td>\n",
       "      <td>3</td>\n",
       "      <td>22</td>\n",
       "      <td>0.0</td>\n",
       "      <td>satellite</td>\n",
       "    </tr>\n",
       "    <tr>\n",
       "      <th>4</th>\n",
       "      <td>Aq1</td>\n",
       "      <td>Oslo havn</td>\n",
       "      <td>59.90895</td>\n",
       "      <td>10.730433</td>\n",
       "      <td>2024</td>\n",
       "      <td>3</td>\n",
       "      <td>22</td>\n",
       "      <td>17.000051</td>\n",
       "      <td>satellite</td>\n",
       "    </tr>\n",
       "    <tr>\n",
       "      <th>...</th>\n",
       "      <td>...</td>\n",
       "      <td>...</td>\n",
       "      <td>...</td>\n",
       "      <td>...</td>\n",
       "      <td>...</td>\n",
       "      <td>...</td>\n",
       "      <td>...</td>\n",
       "      <td>...</td>\n",
       "      <td>...</td>\n",
       "    </tr>\n",
       "    <tr>\n",
       "      <th>106</th>\n",
       "      <td>Hm6</td>\n",
       "      <td>Drøbakterskelen</td>\n",
       "      <td>59.667683</td>\n",
       "      <td>10.615784</td>\n",
       "      <td>2024</td>\n",
       "      <td>3</td>\n",
       "      <td>21</td>\n",
       "      <td>7.931213</td>\n",
       "      <td>satellite</td>\n",
       "    </tr>\n",
       "    <tr>\n",
       "      <th>107</th>\n",
       "      <td>Im1</td>\n",
       "      <td>Drøbak sør</td>\n",
       "      <td>59.6563</td>\n",
       "      <td>10.6217</td>\n",
       "      <td>2024</td>\n",
       "      <td>3</td>\n",
       "      <td>21</td>\n",
       "      <td>7.561804</td>\n",
       "      <td>satellite</td>\n",
       "    </tr>\n",
       "    <tr>\n",
       "      <th>108</th>\n",
       "      <td>Im2</td>\n",
       "      <td>Elle</td>\n",
       "      <td>59.622032</td>\n",
       "      <td>10.628217</td>\n",
       "      <td>2024</td>\n",
       "      <td>3</td>\n",
       "      <td>21</td>\n",
       "      <td>5.848034</td>\n",
       "      <td>satellite</td>\n",
       "    </tr>\n",
       "    <tr>\n",
       "      <th>109</th>\n",
       "      <td>Im3</td>\n",
       "      <td>Drøbak havn</td>\n",
       "      <td>59.6607</td>\n",
       "      <td>10.6217</td>\n",
       "      <td>2024</td>\n",
       "      <td>3</td>\n",
       "      <td>21</td>\n",
       "      <td>7.92139</td>\n",
       "      <td>satellite</td>\n",
       "    </tr>\n",
       "    <tr>\n",
       "      <th>110</th>\n",
       "      <td>VT4</td>\n",
       "      <td>Hvitsten</td>\n",
       "      <td>59.604685</td>\n",
       "      <td>10.633385</td>\n",
       "      <td>2024</td>\n",
       "      <td>3</td>\n",
       "      <td>21</td>\n",
       "      <td>6.286836</td>\n",
       "      <td>satellite</td>\n",
       "    </tr>\n",
       "  </tbody>\n",
       "</table>\n",
       "<p>111 rows × 9 columns</p>\n",
       "</div>"
      ],
      "text/plain": [
       "    station     station_name        lat        lon  year month day      chl-a  \\\n",
       "0       Ap1     Frognerkilen  59.909017  10.701133  2024     3  22  14.593688   \n",
       "1       Ap2        Kavringen     59.899     10.718  2024     3  22  18.046536   \n",
       "2       Ap3          Skurven   59.89805   10.70103  2024     3  22  18.561042   \n",
       "3       Ap4       Tjuvholmen    59.9083    10.7192  2024     3  22        0.0   \n",
       "4       Aq1        Oslo havn   59.90895  10.730433  2024     3  22  17.000051   \n",
       "..      ...              ...        ...        ...   ...   ...  ..        ...   \n",
       "106     Hm6  Drøbakterskelen  59.667683  10.615784  2024     3  21   7.931213   \n",
       "107     Im1       Drøbak sør    59.6563    10.6217  2024     3  21   7.561804   \n",
       "108     Im2             Elle  59.622032  10.628217  2024     3  21   5.848034   \n",
       "109     Im3      Drøbak havn    59.6607    10.6217  2024     3  21    7.92139   \n",
       "110     VT4         Hvitsten  59.604685  10.633385  2024     3  21   6.286836   \n",
       "\n",
       "        source  \n",
       "0    satellite  \n",
       "1    satellite  \n",
       "2    satellite  \n",
       "3    satellite  \n",
       "4    satellite  \n",
       "..         ...  \n",
       "106  satellite  \n",
       "107  satellite  \n",
       "108  satellite  \n",
       "109  satellite  \n",
       "110  satellite  \n",
       "\n",
       "[111 rows x 9 columns]"
      ]
     },
     "execution_count": 37,
     "metadata": {},
     "output_type": "execute_result"
    }
   ],
   "source": [
    "df"
   ]
  },
  {
   "cell_type": "code",
   "execution_count": 22,
   "id": "65ae3c6b-bace-47ae-a6ed-86991583f60f",
   "metadata": {},
   "outputs": [
    {
     "data": {
      "text/plain": [
       "array([19.50307998])"
      ]
     },
     "execution_count": 22,
     "metadata": {},
     "output_type": "execute_result"
    }
   ],
   "source": [
    "get_chl_from_lat_lon(p, lat, lon)"
   ]
  },
  {
   "cell_type": "code",
   "execution_count": 23,
   "id": "815daef7-1494-4cb1-bc6e-830d2797254d",
   "metadata": {},
   "outputs": [
    {
     "data": {
      "text/plain": [
       "array([0.93136334])"
      ]
     },
     "execution_count": 23,
     "metadata": {},
     "output_type": "execute_result"
    }
   ],
   "source": [
    "p.getBand('iop_apig').readPixels(int(x), int(y), 1, 1, np.zeros(1))"
   ]
  },
  {
   "cell_type": "code",
   "execution_count": 53,
   "id": "d4a14c34-a544-4d23-832b-277560a55970",
   "metadata": {},
   "outputs": [],
   "source": [
    "def plotBand(product, band):\n",
    "     \n",
    "    band = product.getBand(band)\n",
    "\n",
    "    w = band.getRasterWidth()\n",
    "    h = band.getRasterHeight()\n",
    "\n",
    "    band_data = np.zeros(w * h, np.float32)\n",
    "    band.readPixels(0, 0, w, h, band_data)\n",
    "\n",
    "    band_data.shape = h, w\n",
    "\n",
    "    width = 12\n",
    "    height = 12\n",
    "    plt.figure(figsize=(width, height))\n",
    "    imgplot = plt.imshow(band_data, cmap=plt.cm.binary)\n",
    "    \n",
    "    return  "
   ]
  },
  {
   "cell_type": "code",
   "execution_count": 54,
   "id": "56484396-ebf9-4f15-8b3c-c5e06d1188b2",
   "metadata": {},
   "outputs": [
    {
     "data": {
      "image/png": "[encoded data removed]",
      "text/plain": [
       "<Figure size 1200x1200 with 1 Axes>"
      ]
     },
     "metadata": {},
     "output_type": "display_data"
    }
   ],
   "source": [
    "plotBand(p, 'iop_apig')"
   ]
  },
  {
   "cell_type": "code",
   "execution_count": 18,
   "id": "59d6ce94-7b45-4687-9424-6967546c0d7c",
   "metadata": {},
   "outputs": [],
   "source": []
  },
  {
   "cell_type": "code",
   "execution_count": 46,
   "id": "cf857017-c57e-482a-b94b-81443cfd49bc",
   "metadata": {},
   "outputs": [
    {
     "data": {
      "text/html": [
       "<div>\n",
       "<style scoped>\n",
       "    .dataframe tbody tr th:only-of-type {\n",
       "        vertical-align: middle;\n",
       "    }\n",
       "\n",
       "    .dataframe tbody tr th {\n",
       "        vertical-align: top;\n",
       "    }\n",
       "\n",
       "    .dataframe thead th {\n",
       "        text-align: right;\n",
       "    }\n",
       "</style>\n",
       "<table border=\"1\" class=\"dataframe\">\n",
       "  <thead>\n",
       "    <tr style=\"text-align: right;\">\n",
       "      <th></th>\n",
       "      <th>station</th>\n",
       "      <th>station_name</th>\n",
       "      <th>lat</th>\n",
       "      <th>lon</th>\n",
       "      <th>year</th>\n",
       "      <th>month</th>\n",
       "      <th>day</th>\n",
       "      <th>chl-a</th>\n",
       "      <th>source</th>\n",
       "    </tr>\n",
       "  </thead>\n",
       "  <tbody>\n",
       "    <tr>\n",
       "      <th>34</th>\n",
       "      <td>Im2</td>\n",
       "      <td>Elle</td>\n",
       "      <td>59.622032</td>\n",
       "      <td>10.628217</td>\n",
       "      <td>2024</td>\n",
       "      <td>3</td>\n",
       "      <td>22</td>\n",
       "      <td>19.341738</td>\n",
       "      <td>satellite</td>\n",
       "    </tr>\n",
       "    <tr>\n",
       "      <th>71</th>\n",
       "      <td>Im2</td>\n",
       "      <td>Elle</td>\n",
       "      <td>59.622032</td>\n",
       "      <td>10.628217</td>\n",
       "      <td>2024</td>\n",
       "      <td>3</td>\n",
       "      <td>23</td>\n",
       "      <td>7.188723</td>\n",
       "      <td>satellite</td>\n",
       "    </tr>\n",
       "    <tr>\n",
       "      <th>108</th>\n",
       "      <td>Im2</td>\n",
       "      <td>Elle</td>\n",
       "      <td>59.622032</td>\n",
       "      <td>10.628217</td>\n",
       "      <td>2024</td>\n",
       "      <td>3</td>\n",
       "      <td>21</td>\n",
       "      <td>5.848034</td>\n",
       "      <td>satellite</td>\n",
       "    </tr>\n",
       "    <tr>\n",
       "      <th>145</th>\n",
       "      <td>Im2</td>\n",
       "      <td>Elle</td>\n",
       "      <td>59.622032</td>\n",
       "      <td>10.628217</td>\n",
       "      <td>2024</td>\n",
       "      <td>3</td>\n",
       "      <td>20</td>\n",
       "      <td>0.0</td>\n",
       "      <td>satellite</td>\n",
       "    </tr>\n",
       "    <tr>\n",
       "      <th>182</th>\n",
       "      <td>Im2</td>\n",
       "      <td>Elle</td>\n",
       "      <td>59.622032</td>\n",
       "      <td>10.628217</td>\n",
       "      <td>2024</td>\n",
       "      <td>3</td>\n",
       "      <td>19</td>\n",
       "      <td>3.429297</td>\n",
       "      <td>satellite</td>\n",
       "    </tr>\n",
       "    <tr>\n",
       "      <th>219</th>\n",
       "      <td>Im2</td>\n",
       "      <td>Elle</td>\n",
       "      <td>59.622032</td>\n",
       "      <td>10.628217</td>\n",
       "      <td>2024</td>\n",
       "      <td>3</td>\n",
       "      <td>18</td>\n",
       "      <td>6.977092</td>\n",
       "      <td>satellite</td>\n",
       "    </tr>\n",
       "  </tbody>\n",
       "</table>\n",
       "</div>"
      ],
      "text/plain": [
       "    station station_name        lat        lon  year month day      chl-a  \\\n",
       "34      Im2         Elle  59.622032  10.628217  2024     3  22  19.341738   \n",
       "71      Im2         Elle  59.622032  10.628217  2024     3  23   7.188723   \n",
       "108     Im2         Elle  59.622032  10.628217  2024     3  21   5.848034   \n",
       "145     Im2         Elle  59.622032  10.628217  2024     3  20        0.0   \n",
       "182     Im2         Elle  59.622032  10.628217  2024     3  19   3.429297   \n",
       "219     Im2         Elle  59.622032  10.628217  2024     3  18   6.977092   \n",
       "\n",
       "        source  \n",
       "34   satellite  \n",
       "71   satellite  \n",
       "108  satellite  \n",
       "145  satellite  \n",
       "182  satellite  \n",
       "219  satellite  "
      ]
     },
     "execution_count": 46,
     "metadata": {},
     "output_type": "execute_result"
    }
   ],
   "source": [
    "df[df[\"station\"] == \"Im2\"]"
   ]
  },
  {
   "cell_type": "code",
   "execution_count": 49,
   "id": "8226ae51-9ea2-40bc-8f5c-b6ca244ad76e",
   "metadata": {},
   "outputs": [
    {
     "data": {
      "text/plain": [
       "<AxesSubplot: xlabel='day', ylabel='chl-a'>"
      ]
     },
     "execution_count": 49,
     "metadata": {},
     "output_type": "execute_result"
    },
    {
     "data": {
      "image/png": "[encoded data removed]",
      "text/plain": [
       "<Figure size 640x480 with 1 Axes>"
      ]
     },
     "metadata": {},
     "output_type": "display_data"
    }
   ],
   "source": [
    "sns.set_style(\"whitegrid\")\n",
    "sns.lineplot(x=\"day\", y=\"chl-a\", data = df[df[\"station\"] == \"Im2\"])"
   ]
  },
  {
   "cell_type": "code",
   "execution_count": null,
   "id": "1a2c5c6c-56ac-4607-9820-b0dc28700112",
   "metadata": {},
   "outputs": [],
   "source": []
  }
 ],
 "metadata": {
  "kernelspec": {
   "display_name": "Python 3 (ipykernel)",
   "language": "python",
   "name": "python3"
  },
  "language_info": {
   "codemirror_mode": {
    "name": "ipython",
    "version": 3
   },
   "file_extension": ".py",
   "mimetype": "text/x-python",
   "name": "python",
   "nbconvert_exporter": "python",
   "pygments_lexer": "ipython3",
   "version": "3.8.13"
  }
 },
 "nbformat": 4,
 "nbformat_minor": 5
}
