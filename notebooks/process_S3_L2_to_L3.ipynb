{
 "cells": [
  {
   "cell_type": "code",
   "execution_count": 4,
   "id": "1ae8949b-d4d8-49ca-9662-fba28fa6eb1f",
   "metadata": {},
   "outputs": [
    {
     "name": "stderr",
     "output_type": "stream",
     "text": [
      "INFO: org.esa.snap.core.gpf.operators.tooladapter.ToolAdapterIO: Initializing external tool adapters\n",
      "INFO: org.esa.snap.core.util.EngineVersionCheckActivator: Please check regularly for new updates for the best SNAP experience.\n",
      "WARNING: org.esa.snap.core.util.EngineVersionCheckActivator: A new SNAP version is available for download.\n",
      "Currently installed 9.0.0, available is 10.0.0.\n",
      "Please visit http://step.esa.int\n",
      "\n"
     ]
    }
   ],
   "source": [
    "import os\n",
    "import zipfile\n",
    "import numpy as np\n",
    "from PIL import Image\n",
    "from datetime import date\n",
    "import matplotlib.pyplot as plt\n",
    "import xarray as xr\n",
    "from pathlib import Path\n",
    "from datetime import date, timedelta\n",
    "import shutil\n",
    "\n",
    "\n",
    "from snappy import ProductIO, GPF, HashMap, ProductUtils, PixelPos, GeoPos, ProductData, jpy\n",
    "from sentinelsat import SentinelAPI, read_geojson, geojson_to_wkt, make_path_filter\n",
    "\n",
    "%matplotlib inline"
   ]
  },
  {
   "cell_type": "code",
   "execution_count": null,
   "id": "731c24c5-4232-4e36-97f6-9bb603ce293e",
   "metadata": {},
   "outputs": [],
   "source": [
    "S3_ROOT_FOLDER = Path('/home/jovyan/earth-observations/notebooks')\n",
    "ROI = \"\"\n",
    "YEAR = \"\"\n",
    "MONTH = \"\""
   ]
  },
  {
   "cell_type": "code",
   "execution_count": 6,
   "id": "60ddbfa5-6157-44b5-9851-afe26ba39c76",
   "metadata": {},
   "outputs": [],
   "source": [
    "footprint = geojson_to_wkt(read_geojson('indre-oslofjord.geojson'))"
   ]
  },
  {
   "cell_type": "code",
   "execution_count": 7,
   "id": "495d10b6-ab5e-47ee-b08e-86b0da8c434a",
   "metadata": {},
   "outputs": [],
   "source": [
    "def read_S3(filename):\n",
    "    reader = ProductIO.getProductReader('SENTINEL-3')\n",
    "    return  ProductIO.readProduct(filename + '.SEN3')"
   ]
  },
  {
   "cell_type": "code",
   "execution_count": 8,
   "id": "18b989e6-3977-45a9-9dba-cd30c20f57b9",
   "metadata": {},
   "outputs": [],
   "source": [
    "FILENAME_NO_EXT = \"./S3/L1/Io/2024/February/25/S3B_OL_1_EFR____20240225T092342_20240225T092642_20240225T203752_0180_090_093_1980_PS2_O_NT_003\"\n",
    "p = read_S3(FILENAME_NO_EXT)"
   ]
  },
  {
   "cell_type": "code",
   "execution_count": 9,
   "id": "73063513-f75e-409b-a245-4f6c6dc9f8e1",
   "metadata": {},
   "outputs": [
    {
     "name": "stdout",
     "output_type": "stream",
     "text": [
      "['Oa01_radiance', 'Oa01_radiance_unc', 'Oa02_radiance', 'Oa02_radiance_unc', 'Oa03_radiance', 'Oa03_radiance_unc', 'Oa04_radiance', 'Oa04_radiance_unc', 'Oa05_radiance', 'Oa05_radiance_unc', 'Oa06_radiance', 'Oa06_radiance_unc', 'Oa07_radiance', 'Oa07_radiance_unc', 'Oa08_radiance', 'Oa08_radiance_unc', 'Oa09_radiance', 'Oa09_radiance_unc', 'Oa10_radiance', 'Oa10_radiance_unc', 'Oa11_radiance', 'Oa11_radiance_unc', 'Oa12_radiance', 'Oa12_radiance_unc', 'Oa13_radiance', 'Oa13_radiance_unc', 'Oa14_radiance', 'Oa14_radiance_unc', 'Oa15_radiance', 'Oa15_radiance_unc', 'Oa16_radiance', 'Oa16_radiance_unc', 'Oa17_radiance', 'Oa17_radiance_unc', 'Oa18_radiance', 'Oa18_radiance_unc', 'Oa19_radiance', 'Oa19_radiance_unc', 'Oa20_radiance', 'Oa20_radiance_unc', 'Oa21_radiance', 'Oa21_radiance_unc', 'altitude', 'latitude', 'longitude', 'detector_index', 'FWHM_band_1', 'FWHM_band_2', 'FWHM_band_3', 'FWHM_band_4', 'FWHM_band_5', 'FWHM_band_6', 'FWHM_band_7', 'FWHM_band_8', 'FWHM_band_9', 'FWHM_band_10', 'FWHM_band_11', 'FWHM_band_12', 'FWHM_band_13', 'FWHM_band_14', 'FWHM_band_15', 'FWHM_band_16', 'FWHM_band_17', 'FWHM_band_18', 'FWHM_band_19', 'FWHM_band_20', 'FWHM_band_21', 'lambda0_band_1', 'lambda0_band_2', 'lambda0_band_3', 'lambda0_band_4', 'lambda0_band_5', 'lambda0_band_6', 'lambda0_band_7', 'lambda0_band_8', 'lambda0_band_9', 'lambda0_band_10', 'lambda0_band_11', 'lambda0_band_12', 'lambda0_band_13', 'lambda0_band_14', 'lambda0_band_15', 'lambda0_band_16', 'lambda0_band_17', 'lambda0_band_18', 'lambda0_band_19', 'lambda0_band_20', 'lambda0_band_21', 'solar_flux_band_1', 'solar_flux_band_2', 'solar_flux_band_3', 'solar_flux_band_4', 'solar_flux_band_5', 'solar_flux_band_6', 'solar_flux_band_7', 'solar_flux_band_8', 'solar_flux_band_9', 'solar_flux_band_10', 'solar_flux_band_11', 'solar_flux_band_12', 'solar_flux_band_13', 'solar_flux_band_14', 'solar_flux_band_15', 'solar_flux_band_16', 'solar_flux_band_17', 'solar_flux_band_18', 'solar_flux_band_19', 'solar_flux_band_20', 'solar_flux_band_21', 'quality_flags']\n"
     ]
    }
   ],
   "source": [
    "print(list(p.getBandNames()))"
   ]
  },
  {
   "cell_type": "code",
   "execution_count": 10,
   "id": "35929a89-1125-4910-85f4-4a47a97df555",
   "metadata": {},
   "outputs": [],
   "source": [
    "def crop_product(product):\n",
    "\n",
    "    HashMap = jpy.get_type('java.util.HashMap')\n",
    "    parameters = HashMap()\n",
    "    \n",
    "    parameters.put('copyMetadata', True)\n",
    "    parameters.put('geoRegion', footprint)\n",
    "\n",
    "    return GPF.createProduct('Subset', parameters, product)"
   ]
  },
  {
   "cell_type": "code",
   "execution_count": null,
   "id": "f4a7417c-2479-468a-bee4-55185a64118c",
   "metadata": {},
   "outputs": [],
   "source": []
  },
  {
   "cell_type": "code",
   "execution_count": null,
   "id": "86850638-2333-4de9-8b87-5bd6e857401a",
   "metadata": {},
   "outputs": [],
   "source": []
  }
 ],
 "metadata": {
  "kernelspec": {
   "display_name": "Python 3 (ipykernel)",
   "language": "python",
   "name": "python3"
  },
  "language_info": {
   "codemirror_mode": {
    "name": "ipython",
    "version": 3
   },
   "file_extension": ".py",
   "mimetype": "text/x-python",
   "name": "python",
   "nbconvert_exporter": "python",
   "pygments_lexer": "ipython3",
   "version": "3.8.13"
  }
 },
 "nbformat": 4,
 "nbformat_minor": 5
}
