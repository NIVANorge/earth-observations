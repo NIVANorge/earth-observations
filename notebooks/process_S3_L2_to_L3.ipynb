{
 "cells": [
  {
   "cell_type": "code",
   "execution_count": null,
   "id": "3ca71341-971e-4287-93ce-4c3d545539c2",
   "metadata": {},
   "outputs": [],
   "source": [
    "# Set a time the time span of interest\n",
    "# Read station file to parse the coordinates of stations\n",
    "# Iterate over L2 products to extract chl-a values at stations\n",
    "# Add chl-a value to a table with stations/dates\n",
    "# Plot or produce data output"
   ]
  },
  {
   "cell_type": "code",
   "execution_count": null,
   "id": "bceb3d42-9690-417a-b024-4f4be25e96b8",
   "metadata": {},
   "outputs": [],
   "source": [
    "# https://stackoverflow.com/questions/52293759/snappy-wrong-conversion-from-pixel-to-lat-long\n",
    "# https://forum.step.esa.int/t/extracting-pixel-values-sentinel-2a-l2a-with-snap-or-snappy/29878/4"
   ]
  },
  {
   "cell_type": "code",
   "execution_count": 13,
   "id": "1ae8949b-d4d8-49ca-9662-fba28fa6eb1f",
   "metadata": {},
   "outputs": [],
   "source": [
    "import os\n",
    "import zipfile\n",
    "import numpy as np\n",
    "from PIL import Image\n",
    "from datetime import date\n",
    "import matplotlib.pyplot as plt\n",
    "import xarray as xr\n",
    "from pathlib import Path\n",
    "from datetime import date, timedelta\n",
    "import shutil\n",
    "\n",
    "\n",
    "from snappy import ProductIO, GPF, HashMap, ProductUtils, PixelPos, GeoPos, ProductData, jpy\n",
    "from sentinelsat import SentinelAPI, read_geojson, geojson_to_wkt, make_path_filter\n",
    "\n",
    "%matplotlib inline"
   ]
  },
  {
   "cell_type": "code",
   "execution_count": null,
   "id": "53d42fc2-9692-4ccb-8f3c-8e75fd2c07b0",
   "metadata": {},
   "outputs": [],
   "source": []
  },
  {
   "cell_type": "code",
   "execution_count": 14,
   "id": "731c24c5-4232-4e36-97f6-9bb603ce293e",
   "metadata": {},
   "outputs": [],
   "source": [
    "S3_ROOT_FOLDER = Path('/home/jovyan/earth-observations/notebooks')\n",
    "ROI = \"\"\n",
    "YEAR = \"\"\n",
    "MONTH = \"\""
   ]
  },
  {
   "cell_type": "code",
   "execution_count": null,
   "id": "506d880a-21bf-4a60-a582-3d9622c35264",
   "metadata": {},
   "outputs": [],
   "source": []
  },
  {
   "cell_type": "code",
   "execution_count": 16,
   "id": "60ddbfa5-6157-44b5-9851-afe26ba39c76",
   "metadata": {},
   "outputs": [],
   "source": [
    "def read_BEAM(filename):\n",
    "    reader = ProductIO.getProductReader('BEAM-DIMAP')\n",
    "    return ProductIO.readProduct(filename)\n",
    "\n",
    "FILENAME = \"./S3/L2/C2RCC/IO/2024/March/22/S3B.dim\"\n",
    "p = read_BEAM(FILENAME)"
   ]
  },
  {
   "cell_type": "code",
   "execution_count": 5,
   "id": "73063513-f75e-409b-a245-4f6c6dc9f8e1",
   "metadata": {},
   "outputs": [
    {
     "name": "stdout",
     "output_type": "stream",
     "text": [
      "['longitude', 'latitude', 'quality_flags', 'rtoa_1', 'rtoa_2', 'rtoa_3', 'rtoa_4', 'rtoa_5', 'rtoa_6', 'rtoa_7', 'rtoa_8', 'rtoa_9', 'rtoa_10', 'rtoa_11', 'rtoa_12', 'rtoa_13', 'rtoa_14', 'rtoa_15', 'rtoa_16', 'rtoa_17', 'rtoa_18', 'rtoa_19', 'rtoa_20', 'rtoa_21', 'rtosa_gc_1', 'rtosa_gc_2', 'rtosa_gc_3', 'rtosa_gc_4', 'rtosa_gc_5', 'rtosa_gc_6', 'rtosa_gc_7', 'rtosa_gc_8', 'rtosa_gc_9', 'rtosa_gc_10', 'rtosa_gc_11', 'rtosa_gc_12', 'rtosa_gc_16', 'rtosa_gc_17', 'rtosa_gc_18', 'rtosa_gc_21', 'rtosagc_aann_1', 'rtosagc_aann_2', 'rtosagc_aann_3', 'rtosagc_aann_4', 'rtosagc_aann_5', 'rtosagc_aann_6', 'rtosagc_aann_7', 'rtosagc_aann_8', 'rtosagc_aann_9', 'rtosagc_aann_10', 'rtosagc_aann_11', 'rtosagc_aann_12', 'rtosagc_aann_16', 'rtosagc_aann_17', 'rtosagc_aann_18', 'rtosagc_aann_21', 'rpath_1', 'rpath_2', 'rpath_3', 'rpath_4', 'rpath_5', 'rpath_6', 'rpath_7', 'rpath_8', 'rpath_9', 'rpath_10', 'rpath_11', 'rpath_12', 'rpath_16', 'rpath_17', 'rpath_18', 'rpath_21', 'tdown_1', 'tdown_2', 'tdown_3', 'tdown_4', 'tdown_5', 'tdown_6', 'tdown_7', 'tdown_8', 'tdown_9', 'tdown_10', 'tdown_11', 'tdown_12', 'tdown_16', 'tdown_17', 'tdown_18', 'tdown_21', 'tup_1', 'tup_2', 'tup_3', 'tup_4', 'tup_5', 'tup_6', 'tup_7', 'tup_8', 'tup_9', 'tup_10', 'tup_11', 'tup_12', 'tup_16', 'tup_17', 'tup_18', 'tup_21', 'rrs_1', 'rrs_2', 'rrs_3', 'rrs_4', 'rrs_5', 'rrs_6', 'rrs_7', 'rrs_8', 'rrs_9', 'rrs_10', 'rrs_11', 'rrs_12', 'rrs_16', 'rrs_17', 'rrs_18', 'rrs_21', 'rhown_1', 'rhown_2', 'rhown_3', 'rhown_4', 'rhown_5', 'rhown_6', 'rhown_7', 'rhown_8', 'rhown_9', 'rhown_10', 'rhown_11', 'rhown_12', 'rhown_16', 'rhown_17', 'rhown_18', 'rhown_21', 'oos_rtosa', 'oos_rrs', 'iop_apig', 'iop_adet', 'iop_agelb', 'iop_bpart', 'iop_bwit', 'iop_adg', 'iop_atot', 'iop_btot', 'kd489', 'kdmin', 'kd_z90max', 'conc_tsm', 'conc_chl', 'unc_apig', 'unc_adet', 'unc_agelb', 'unc_bpart', 'unc_bwit', 'unc_adg', 'unc_atot', 'unc_btot', 'unc_tsm', 'unc_chl', 'unc_kd489', 'unc_kdmin', 'unc_kd_z90max', 'c2rcc_flags']\n"
     ]
    }
   ],
   "source": [
    "print(list(p.getBandNames()))"
   ]
  },
  {
   "cell_type": "code",
   "execution_count": 6,
   "id": "f4a7417c-2479-468a-bee4-55185a64118c",
   "metadata": {},
   "outputs": [],
   "source": [
    "def coords_from_xy(geocode, x, y):\n",
    "    geoPos = geocode.getGeoPos(PixelPos(x, y), None)\n",
    "    lat = geoPos.getLat()\n",
    "    lon = geoPos.getLon()\n",
    "    \n",
    "    return lat, lon\n",
    "\n",
    "def xy_from_coords(geocode, lat, lon):\n",
    "    pixelPos = geocode.getPixelPos(GeoPos(lat, lon), None)\n",
    "    x = np.round(pixelPos.getX())\n",
    "    y = np.round(pixelPos.getY())\n",
    "    \n",
    "    return x, y"
   ]
  },
  {
   "cell_type": "code",
   "execution_count": 7,
   "id": "86850638-2333-4de9-8b87-5bd6e857401a",
   "metadata": {},
   "outputs": [
    {
     "name": "stdout",
     "output_type": "stream",
     "text": [
      "60.0 42.0\n",
      "(59.869234999999996, 10.655754)\n"
     ]
    }
   ],
   "source": [
    "sg = p.getSceneGeoCoding()\n",
    "\n",
    "lat = 59.872789\n",
    "lon = 10.656834\n",
    " \n",
    "x, y = xy_from_coords(sg, lat, lon)\n",
    "print(x, y)\n",
    "print(coords_from_xy(sg, x, y))"
   ]
  },
  {
   "cell_type": "code",
   "execution_count": 8,
   "id": "6a87d334-160b-4147-9480-81d2353ce034",
   "metadata": {},
   "outputs": [],
   "source": [
    "def get_chl_from_lat_lon(product, lat, lon):\n",
    "    \n",
    "    sg = product.getSceneGeoCoding()\n",
    "    try:\n",
    "        x, y = xy_from_coords(sg, lat, lon)\n",
    "    except ValueError:\n",
    "        print(\"Coordinates are outside the region of interest\")\n",
    "        return\n",
    "    \n",
    "    raw_chl_value = product.getBand('iop_apig').readPixels(int(x), int(y), 1, 1, np.zeros(1))\n",
    "    return np.power(raw_chl_value, 1.04) * 21  # Default values from SNAP\n",
    "    "
   ]
  },
  {
   "cell_type": "code",
   "execution_count": 9,
   "id": "65ae3c6b-bace-47ae-a6ed-86991583f60f",
   "metadata": {},
   "outputs": [
    {
     "data": {
      "text/plain": [
       "array([0.])"
      ]
     },
     "execution_count": 9,
     "metadata": {},
     "output_type": "execute_result"
    }
   ],
   "source": [
    "get_chl_from_lat_lon(p, 59.872789, 10.656834)"
   ]
  },
  {
   "cell_type": "code",
   "execution_count": 10,
   "id": "815daef7-1494-4cb1-bc6e-830d2797254d",
   "metadata": {},
   "outputs": [
    {
     "data": {
      "text/plain": [
       "array([0.])"
      ]
     },
     "execution_count": 10,
     "metadata": {},
     "output_type": "execute_result"
    }
   ],
   "source": [
    "p.getBand('iop_apig').readPixels(int(x), int(y), 1, 1, np.zeros(1))"
   ]
  },
  {
   "cell_type": "code",
   "execution_count": 11,
   "id": "d4a14c34-a544-4d23-832b-277560a55970",
   "metadata": {},
   "outputs": [],
   "source": [
    "def plotBand(product, band):\n",
    "     \n",
    "    band = product.getBand(band)\n",
    "\n",
    "    w = band.getRasterWidth()\n",
    "    h = band.getRasterHeight()\n",
    "\n",
    "    band_data = np.zeros(w * h, np.float32)\n",
    "    band.readPixels(0, 0, w, h, band_data)\n",
    "\n",
    "    band_data.shape = h, w\n",
    "\n",
    "    width = 12\n",
    "    height = 12\n",
    "    plt.figure(figsize=(width, height))\n",
    "    imgplot = plt.imshow(band_data, cmap=plt.cm.binary)\n",
    "    \n",
    "    return  "
   ]
  },
  {
   "cell_type": "code",
   "execution_count": 12,
   "id": "56484396-ebf9-4f15-8b3c-c5e06d1188b2",
   "metadata": {},
   "outputs": [
    {
     "data": {
      "image/png": "[encoded data removed]",
      "text/plain": [
       "<Figure size 1200x1200 with 1 Axes>"
      ]
     },
     "metadata": {},
     "output_type": "display_data"
    }
   ],
   "source": [
    "plotBand(p, 'iop_apig')"
   ]
  },
  {
   "cell_type": "code",
   "execution_count": null,
   "id": "59d6ce94-7b45-4687-9424-6967546c0d7c",
   "metadata": {},
   "outputs": [],
   "source": []
  }
 ],
 "metadata": {
  "kernelspec": {
   "display_name": "Python 3 (ipykernel)",
   "language": "python",
   "name": "python3"
  },
  "language_info": {
   "codemirror_mode": {
    "name": "ipython",
    "version": 3
   },
   "file_extension": ".py",
   "mimetype": "text/x-python",
   "name": "python",
   "nbconvert_exporter": "python",
   "pygments_lexer": "ipython3",
   "version": "3.8.13"
  }
 },
 "nbformat": 4,
 "nbformat_minor": 5
}
