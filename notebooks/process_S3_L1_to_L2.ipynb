{
 "cells": [
  {
   "cell_type": "code",
   "execution_count": 1,
   "id": "48a7b8c1-6404-47f6-9183-5765a00faa2b",
   "metadata": {},
   "outputs": [],
   "source": [
    "# This notebook accesses the L1 products and runs the C2RCC operator on it to produce L2 products\n",
    "#"
   ]
  },
  {
   "cell_type": "code",
   "execution_count": 1,
   "id": "1ae8949b-d4d8-49ca-9662-fba28fa6eb1f",
   "metadata": {},
   "outputs": [
    {
     "name": "stderr",
     "output_type": "stream",
     "text": [
      "INFO: org.esa.snap.core.gpf.operators.tooladapter.ToolAdapterIO: Initializing external tool adapters\n",
      "INFO: org.esa.snap.core.util.EngineVersionCheckActivator: Please check regularly for new updates for the best SNAP experience.\n",
      "WARNING: org.esa.snap.core.util.EngineVersionCheckActivator: A new SNAP version is available for download.\n",
      "Currently installed 9.0.0, available is 10.0.0.\n",
      "Please visit http://step.esa.int\n",
      "\n"
     ]
    }
   ],
   "source": [
    "import os\n",
    "import json\n",
    "import zipfile\n",
    "import numpy as np\n",
    "from PIL import Image\n",
    "from datetime import date\n",
    "import matplotlib.pyplot as plt\n",
    "import xarray as xr\n",
    "from pathlib import Path\n",
    "from datetime import date, timedelta\n",
    "import shutil\n",
    "\n",
    "from snappy import ProductIO, GPF, HashMap, ProductUtils, PixelPos, GeoPos, ProductData, jpy\n",
    "from sentinelsat import SentinelAPI, read_geojson, geojson_to_wkt, make_path_filter\n",
    "\n",
    "from datetime import datetime\n",
    "from dateutil.relativedelta import relativedelta\n",
    "import calendar\n",
    "\n",
    "%matplotlib inline"
   ]
  },
  {
   "cell_type": "code",
   "execution_count": 2,
   "id": "841d0a0f-eaf3-4797-91b9-773098e51457",
   "metadata": {},
   "outputs": [],
   "source": [
    "def list_days_in_month(year, month_text) -> list:\n",
    "    # Returns a list of integers, the days included in a specific month of a specific year\n",
    "    \n",
    "    int_year = int(year)\n",
    "    # Convert month text to month number\n",
    "    month_number = datetime.strptime(month_text, \"%B\").month\n",
    "    \n",
    "    # Get the first day of the month\n",
    "    first_day_of_month = datetime(int_year, month_number, 1)\n",
    "    \n",
    "    # Get the number of days in the month\n",
    "    days_in_month = calendar.monthrange(int_year, month_number)[1]\n",
    "    \n",
    "    # Generate the list of days\n",
    "    days = [first_day_of_month + relativedelta(days=i) for i in range(days_in_month)]\n",
    "    \n",
    "    # Extract day numbers\n",
    "    day_numbers = [day.day for day in days]\n",
    "    \n",
    "    return day_numbers"
   ]
  },
  {
   "cell_type": "code",
   "execution_count": 3,
   "id": "731c24c5-4232-4e36-97f6-9bb603ce293e",
   "metadata": {},
   "outputs": [],
   "source": [
    "# Input\n",
    "\n",
    "S3_ROOT_FOLDER = Path('/home/jovyan/earth-observations/notebooks')\n",
    "ROI_FOLDER = S3_ROOT_FOLDER / 'ROI'\n",
    "\n",
    "ALGORITHM = 'C2RCC'\n",
    "ALGORITHM_CONF_FOLDER = S3_ROOT_FOLDER / (ALGORITHM + '_confs')\n",
    "ALGORITHM_CONF_FILE = ALGORITHM_CONF_FOLDER / 'conf_x1.json'\n",
    "\n",
    "ROI = 'indre-oslofjord'\n",
    "YEAR = '2024'\n",
    "MONTH = 'March'\n",
    "\n",
    "footprint = geojson_to_wkt(read_geojson(ROI_FOLDER / (ROI + '.geojson')))\n",
    "\n",
    "INPUT_FOLDER = S3_ROOT_FOLDER / 'S3' / 'L1' / ROI / YEAR / MONTH\n",
    "OUTPUT_FOLDER = S3_ROOT_FOLDER / 'S3' / 'L2' / ROI / YEAR / MONTH"
   ]
  },
  {
   "cell_type": "code",
   "execution_count": 4,
   "id": "e33aad24-4659-4758-a089-24c642157bd7",
   "metadata": {},
   "outputs": [],
   "source": [
    "c2rcc_conf = {\n",
    "    'validPixelExpression': '!quality_flags.invalid && (!quality_flags.land || quality_flags.fresh_inland_water)',\n",
    "    'temperature': 15.0,\n",
    "    'salinity': 35.0,\n",
    "    'ozone': 330.0,\n",
    "    'press': 1000.0,\n",
    "    # 'TSMfakBpart': 1.72,\n",
    "    # 'TSMfakBwit': 3.1,\n",
    "    'CHLexp': 1.04,\n",
    "    'CHLfak': 21.0,\n",
    "    'thresholdRtosaOOS': 0.005,\n",
    "    'thresholdAcReflecOos': 0.1,\n",
    "    'thresholdCloudTDown865': 0.955,\n",
    "    'outputAsRrs': True,\n",
    "    'deriveRwFromPathAndTransmittance': True,\n",
    "    'useEcmwfAuxData': True,\n",
    "    'outputRtoa': True,\n",
    "    'outputRtosaGc': True,\n",
    "    'outputRtosaGcAann': True,\n",
    "    'outputRpath': True,\n",
    "    'outputTdown': True,\n",
    "    'outputTup': True,\n",
    "    'outputAcReflectance': True,\n",
    "    'outputRhown': True,\n",
    "    'outputOos': True,\n",
    "    'outputKd': True,\n",
    "    'outputUncertainties': True\n",
    "}"
   ]
  },
  {
   "cell_type": "code",
   "execution_count": 5,
   "id": "54cc06b8-d3c9-4b1a-a3d8-e554c8c559b8",
   "metadata": {},
   "outputs": [],
   "source": [
    "def start_processing_L1(filename, day, platform):\n",
    "    \n",
    "    PROCESSED_OUTPUT_FOLDER = OUTPUT_FOLDER / day / ALGORITHM / platform\n",
    "    \n",
    "    # Read the L1 product\n",
    "    reader = ProductIO.getProductReader('SENTINEL-3')\n",
    "    product = ProductIO.readProduct(str(filename))\n",
    "\n",
    "    # Subset the product to the region of interest\n",
    "    HashMap = jpy.get_type('java.util.HashMap')\n",
    "    parameters = HashMap()\n",
    "    \n",
    "    parameters.put('copyMetadata', True)\n",
    "    parameters.put('geoRegion', footprint)\n",
    "\n",
    "    subset_product = GPF.createProduct('Subset', parameters, product)\n",
    "    \n",
    "    result = run_c2rcc(subset_product)\n",
    "\n",
    "    ProductIO.writeProduct(result, f'{PROCESSED_OUTPUT_FOLDER} / {platform}', 'BEAM-DIMAP')  # NetCDF4-CF, BEAM-DIMAP, GeoTIFF, GeoTIFF-BigTIFF\n",
    "    \n",
    "    \n",
    "    # Specify the directory and filename\n",
    "\n",
    "    # json_filename = 'used_c2rcc_conf.json'\n",
    "    # file_path = os.path.join(PROCESSED_OUTPUT_FOLDER, json_filename)\n",
    "\n",
    "    # Ensure the directory exists\n",
    "    # os.makedirs(PROCESSED_OUTPUT_FOLDER, exist_ok=True)\n",
    "    \n",
    "    # Write the dictionary to a JSON file\n",
    "    # with open(file_path, 'w') as json_file:\n",
    "    #     json.dump(c2rcc_conf, json_file, indent=4)\n",
    "    \n",
    "    # Copy the configuration file to the output folder\n",
    "    # shutil.copy(ALGORITHM_CONF_FILE, f'{OUTPUT_FOLDER}/{day}/used_c2rcc_conf.json')\n"
   ]
  },
  {
   "cell_type": "code",
   "execution_count": 6,
   "id": "7feb5eb0-e65c-4325-9455-fb63585492b4",
   "metadata": {},
   "outputs": [],
   "source": [
    "def run_c2rcc(product):\n",
    "    \"\"\"\n",
    "    Run C2RCC on the product \n",
    "    \"\"\"\n",
    "\n",
    "    HashMap = jpy.get_type('java.util.HashMap') \n",
    "    parameters = HashMap()\n",
    "    \n",
    "    for key, value in c2rcc_conf.items():\n",
    "        parameters.put(key, value)\n",
    "\n",
    "    # opSpi = GPF.getDefaultInstance().getOperatorSpiRegistry().getOperatorSpi(\"c2rcc.olci\")\n",
    "    \n",
    "    return GPF.createProduct('c2rcc.olci', parameters, product)"
   ]
  },
  {
   "cell_type": "code",
   "execution_count": 7,
   "id": "278aff8b-b22b-4eaa-8b81-468447f35722",
   "metadata": {},
   "outputs": [
    {
     "name": "stdout",
     "output_type": "stream",
     "text": [
      "S3 L1 product for 1 of March 2024 not found. Skipping\n",
      "S3 L1 product for 2 of March 2024 not found. Skipping\n",
      "S3 L1 product for 3 of March 2024 not found. Skipping\n",
      "S3 L1 product for 4 of March 2024 not found. Skipping\n",
      "S3 L1 product for 5 of March 2024 not found. Skipping\n",
      "S3 L1 product for 6 of March 2024 not found. Skipping\n",
      "S3 L1 product for 7 of March 2024 not found. Skipping\n",
      "S3 L1 product for 8 of March 2024 not found. Skipping\n",
      "S3 L1 product for 9 of March 2024 not found. Skipping\n",
      "S3 L1 product for 10 of March 2024 not found. Skipping\n",
      "S3 L1 product for 11 of March 2024 not found. Skipping\n",
      "S3 L1 product for 12 of March 2024 not found. Skipping\n",
      "S3 L1 product for 13 of March 2024 not found. Skipping\n",
      "S3 L1 product for 14 of March 2024 not found. Skipping\n",
      "S3 L1 product for 15 of March 2024 not found. Skipping\n",
      "S3 L1 product for 16 of March 2024 not found. Skipping\n",
      "S3 L1 product for 17 of March 2024 not found. Skipping\n",
      "S3 L1 product for 18 of March 2024 not found. Skipping\n",
      "S3 L1 product for 19 of March 2024 not found. Skipping\n",
      "S3 L1 product for 20 of March 2024 not found. Skipping\n",
      "S3 L1 product for 21 of March 2024 not found. Skipping\n"
     ]
    },
    {
     "name": "stderr",
     "output_type": "stream",
     "text": [
      "INFO: org.hsqldb.persist.Logger: dataFileCache open start\n",
      "INFO: org.esa.s3tbx.c2rcc.olci.C2rccOlciOperator: c2rcc initial tile : null, configured tile: java.awt.Dimension[width=1217,height=1023]\n"
     ]
    },
    {
     "name": "stdout",
     "output_type": "stream",
     "text": [
      "\n",
      "100% done.\n",
      "Preparing computation\n",
      "50%100% done.\n",
      "\n",
      "100% done.\n",
      "Preparing computation\n"
     ]
    },
    {
     "name": "stderr",
     "output_type": "stream",
     "text": [
      "INFO: org.esa.s3tbx.c2rcc.olci.C2rccOlciOperator: c2rcc initial tile : null, configured tile: java.awt.Dimension[width=1217,height=1023]\n"
     ]
    },
    {
     "name": "stdout",
     "output_type": "stream",
     "text": [
      "50%100% done.\n",
      "\n",
      "100% done.\n",
      "Preparing computation\n",
      "50%100% done.\n",
      "\n",
      "100% done.\n"
     ]
    },
    {
     "name": "stderr",
     "output_type": "stream",
     "text": [
      "INFO: org.esa.s3tbx.c2rcc.olci.C2rccOlciOperator: c2rcc initial tile : null, configured tile: java.awt.Dimension[width=1217,height=1023]\n"
     ]
    },
    {
     "name": "stdout",
     "output_type": "stream",
     "text": [
      "Preparing computation\n",
      "50%100% done.\n",
      "S3 L1 product for 24 of March 2024 not found. Skipping\n",
      "S3 L1 product for 25 of March 2024 not found. Skipping\n",
      "S3 L1 product for 26 of March 2024 not found. Skipping\n",
      "S3 L1 product for 27 of March 2024 not found. Skipping\n",
      "S3 L1 product for 28 of March 2024 not found. Skipping\n",
      "S3 L1 product for 29 of March 2024 not found. Skipping\n",
      "S3 L1 product for 30 of March 2024 not found. Skipping\n",
      "S3 L1 product for 31 of March 2024 not found. Skipping\n"
     ]
    },
    {
     "name": "stderr",
     "output_type": "stream",
     "text": [
      "INFO: org.esa.s3tbx.c2rcc.olci.C2rccOlciOperator: c2rcc initial tile : null, configured tile: java.awt.Dimension[width=1217,height=1023]\n"
     ]
    }
   ],
   "source": [
    "for day in list_days_in_month(YEAR, MONTH):\n",
    "    \n",
    "    current_source_folder = INPUT_FOLDER / str(day)\n",
    "\n",
    "    if current_source_folder.exists() and current_source_folder.is_dir():\n",
    "        \n",
    "        current_destination_folder = OUTPUT_FOLDER / str(day) / ALGORITHM \n",
    "        \n",
    "        if current_destination_folder.exists() and current_destination_folder.is_dir():\n",
    "            # L2 product was already created. Skip\n",
    "            print(\"L2 product already exist at destination. Skipping\")\n",
    "            continue\n",
    "        \n",
    "        try:\n",
    "            S3A_folder = [f for f in current_source_folder.iterdir() if f.is_dir() and f.name.startswith(\"S3A\")][0]\n",
    "            S3B_folder = [f for f in current_source_folder.iterdir() if f.is_dir() and f.name.startswith(\"S3B\")][0]\n",
    "        \n",
    "            start_processing_L1(S3A_folder, str(day), \"S3A\")\n",
    "            start_processing_L1(S3B_folder, str(day), \"S3B\")\n",
    "            \n",
    "        except IndexError:\n",
    "            print(\"Less than the two expected products\")\n",
    "        \n",
    "    else:\n",
    "        print(f\"S3 L1 product for {day} of {MONTH} {YEAR} not found. Skipping\")"
   ]
  },
  {
   "cell_type": "code",
   "execution_count": 9,
   "id": "df56118e-6bbe-4bae-a72e-0ab67a842c39",
   "metadata": {},
   "outputs": [
    {
     "name": "stdout",
     "output_type": "stream",
     "text": [
      "validPixelExpression\n",
      "salinity\n",
      "temperature\n",
      "ozone\n",
      "press\n",
      "TSMfakBpart\n",
      "TSMfakBwit\n",
      "CHLexp\n",
      "CHLfak\n",
      "thresholdRtosaOOS\n",
      "thresholdAcReflecOos\n",
      "thresholdCloudTDown865\n",
      "atmosphericAuxDataPath\n",
      "alternativeNNPath\n",
      "outputAsRrs\n",
      "deriveRwFromPathAndTransmittance\n",
      "useEcmwfAuxData\n",
      "outputRtoa\n",
      "outputRtosaGc\n",
      "outputRtosaGcAann\n",
      "outputRpath\n",
      "outputTdown\n",
      "outputTup\n",
      "outputAcReflectance\n",
      "outputRhown\n",
      "outputOos\n",
      "outputKd\n",
      "outputUncertainties\n"
     ]
    }
   ],
   "source": [
    "opSpi = GPF.getDefaultInstance().getOperatorSpiRegistry().getOperatorSpi(\"c2rcc.olci\")\n",
    "\n",
    "paramDescList = opSpi.getOperatorDescriptor().getParameterDescriptors()\n",
    "for param in paramDescList:\n",
    "    print(param.getName())"
   ]
  },
  {
   "cell_type": "code",
   "execution_count": null,
   "id": "2129a6cb-046b-444e-9561-f07b14971043",
   "metadata": {},
   "outputs": [],
   "source": []
  }
 ],
 "metadata": {
  "kernelspec": {
   "display_name": "Python 3 (ipykernel)",
   "language": "python",
   "name": "python3"
  },
  "language_info": {
   "codemirror_mode": {
    "name": "ipython",
    "version": 3
   },
   "file_extension": ".py",
   "mimetype": "text/x-python",
   "name": "python",
   "nbconvert_exporter": "python",
   "pygments_lexer": "ipython3",
   "version": "3.8.13"
  }
 },
 "nbformat": 4,
 "nbformat_minor": 5
}
