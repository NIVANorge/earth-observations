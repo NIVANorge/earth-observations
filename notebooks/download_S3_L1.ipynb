{
 "cells": [
  {
   "cell_type": "code",
   "execution_count": 6,
   "id": "f1b326d6-73a6-4b8c-9330-bbbb11a4421d",
   "metadata": {},
   "outputs": [],
   "source": [
    "# This notebooks downloads L1 products from the Finnish Data Hub System. \n",
    "# Inputs: start_date, end_data, area_of_interest"
   ]
  },
  {
   "metadata": {
    "jupyter": {
     "is_executing": true
    }
   },
   "cell_type": "code",
   "source": "import os",
   "id": "4ac59be60f89665b",
   "outputs": [],
   "execution_count": null
  },
  {
   "cell_type": "code",
   "id": "1ae8949b-d4d8-49ca-9662-fba28fa6eb1f",
   "metadata": {
    "jupyter": {
     "is_executing": true
    }
   },
   "source": [
    "import os\n",
    "import shutil\n",
    "import zipfile\n",
    "from datetime import date\n",
    "from pathlib import Path\n",
    "from datetime import date, timedelta\n",
    "\n",
    "from sentinelsat import SentinelAPI, read_geojson, geojson_to_wkt, make_path_filter"
   ],
   "outputs": [],
   "execution_count": null
  },
  {
   "cell_type": "code",
   "id": "4474e2da-e791-4b28-8d3f-1c71501baa02",
   "metadata": {
    "jupyter": {
     "is_executing": true
    }
   },
   "source": [
    "S3_ROOT_FOLDER = Path('/home/jovyan/earth-observations/notebooks')\n",
    "ROI_FOLDER = S3_ROOT_FOLDER / 'ROI'  \n",
    "\n",
    "footprint = geojson_to_wkt(read_geojson(ROI_FOLDER / 'indre-oslofjord.geojson'))"
   ],
   "outputs": [],
   "execution_count": null
  },
  {
   "cell_type": "code",
   "execution_count": 3,
   "id": "af438c20-55da-4e83-abd3-ce189ae04daa",
   "metadata": {},
   "outputs": [],
   "source": [
    "# read env variables\n",
    "api = SentinelAPI(os.getenv(\"FIN_HUB_USER\"),\n",
    "                  os.getenv(\"FIN_HUB_PASSWORD\"),\n",
    "                  \"https://finhub.nsdc.fmi.fi/\")"
   ]
  },
  {
   "cell_type": "code",
   "execution_count": 4,
   "id": "97de62e7-492c-4346-a728-cb1fd5fe9b38",
   "metadata": {},
   "outputs": [],
   "source": [
    "def query_products(footprint, start_date, end_date, maxclouds=100):\n",
    "    \n",
    "    # path_filter = make_path_filter(\"_NT_\")\n",
    "\n",
    "    query_parameters = {'timeliness': 'Non-Time Critical'}\n",
    "\n",
    "    products = api.query(footprint,\n",
    "                         date=(start_date, end_date),\n",
    "                         # platformname='Sentinel-2', \n",
    "                         # cloudcoverpercentage=(0, 100),\n",
    "                         producttype='OL_1_EFR___', \n",
    "                         **query_parameters)\n",
    "\n",
    "    return products.keys()"
   ]
  },
  {
   "cell_type": "code",
   "execution_count": 5,
   "id": "20d3fc87-3137-4e37-91aa-8c8768689fda",
   "metadata": {},
   "outputs": [],
   "source": [
    "def move_downloaded_files(destination_folder, roi, delete_zip=True):\n",
    "        \n",
    "    for zip_file in S3_ROOT_FOLDER.glob('*.zip'):\n",
    "        try:\n",
    "            \n",
    "            # Create the destination folder if it doesn't exist\n",
    "            destination_folder.mkdir(parents=True, exist_ok=True)\n",
    "\n",
    "            # Move the ZIP file to the destination folder\n",
    "            moved_zip_path = destination_folder / zip_file.name\n",
    "            shutil.move(str(zip_file), moved_zip_path)\n",
    "            \n",
    "            # print(f\"Moved {zip_file.name} to {destination_folder}\")\n",
    "            # Extract the ZIP file in the destination folder\n",
    "            with zipfile.ZipFile(moved_zip_path, 'r') as zip_ref:\n",
    "                zip_ref.extractall(destination_folder)\n",
    "                print(f\"Extracted {zip_file.name} to {destination_folder}\")\n",
    "\n",
    "                \n",
    "            if delete_zip:\n",
    "                # Delete the ZIP file after extraction\n",
    "                moved_zip_path.unlink()\n",
    "                # print(f\"Deleted {moved_zip_path.name} after extraction\")\n",
    "                \n",
    "        except ValueError as e:\n",
    "            print(f\"Skipping {zip_file.name}: {e}\")"
   ]
  },
  {
   "cell_type": "code",
   "execution_count": 6,
   "id": "1b5c0b9b-ee0e-41cd-8fc2-3cf4f954c542",
   "metadata": {},
   "outputs": [],
   "source": [
    "def download_S3_data(start_date, end_date, roi):\n",
    "    # There must be a file in the ROI folder, called as the passed roi\n",
    "    \n",
    "    zip_files = [file for file in os.listdir('.') if file.endswith('.zip')]\n",
    "    # Assert that there are no .zip files\n",
    "    assert not zip_files, \"Make sure there are no unwanted zip files in the notebook directory\"\n",
    "     \n",
    "    delta = end_date - start_date\n",
    "    \n",
    "    footprint = geojson_to_wkt(read_geojson(ROI_FOLDER / (roi + '.geojson')))\n",
    "    \n",
    "    # Iterate over each day in the range\n",
    "    for i in range(delta.days + 1):\n",
    "        \n",
    "        current_date = start_date + timedelta(days=i)\n",
    "        \n",
    "        # Extract metadata from the filename\n",
    "        year, month, day =  str(current_date.year), current_date.strftime('%B'), str(current_date.day)\n",
    "        \n",
    "        # Construct the destination folder path\n",
    "        destination_folder = S3_ROOT_FOLDER / 'S3' / 'L1' / roi / year / month / day\n",
    "        \n",
    "        # Create the destination folder if it doesn't exist\n",
    "        if destination_folder.exists() and any(destination_folder.iterdir()):\n",
    "            print(f\"Skipping download. Destination folder {destination_folder} already exists and is not empty\")\n",
    "            continue\n",
    "        \n",
    "        products = query_products(footprint, current_date, current_date + timedelta(days=1))\n",
    "        \n",
    "        print(current_date, \": \" + str(len(products)) + \" products\")\n",
    "        \n",
    "        api.download_all(products)\n",
    "        \n",
    "        move_downloaded_files(destination_folder, roi)\n",
    "    \n",
    "    print(\"Done!\")"
   ]
  },
  {
   "cell_type": "code",
   "execution_count": 8,
   "id": "8723f493-44b1-46ff-a0d8-23dfb2d9306f",
   "metadata": {},
   "outputs": [
    {
     "name": "stdout",
     "output_type": "stream",
     "text": [
      "2024-03-18 : 2 products\n"
     ]
    },
    {
     "data": {
      "application/vnd.jupyter.widget-view+json": {
       "model_id": "73686572dc864f70a0fbac549146936b",
       "version_major": 2,
       "version_minor": 0
      },
      "text/plain": [
       "Downloading products:   0%|          | 0/2 [00:00<?, ?product/s]"
      ]
     },
     "metadata": {},
     "output_type": "display_data"
    },
    {
     "data": {
      "application/vnd.jupyter.widget-view+json": {
       "model_id": "1c2c55ee0ce746df8dfab4fe138f06b8",
       "version_major": 2,
       "version_minor": 0
      },
      "text/plain": [
       "Downloading S3A_OL_1_EFR____20240318T103235_20240318T103535_20240319T105723_0179_110_165_1980_PS1_O_NT_003.SAF…"
      ]
     },
     "metadata": {},
     "output_type": "display_data"
    },
    {
     "data": {
      "application/vnd.jupyter.widget-view+json": {
       "model_id": "4e6573fcc0534f3fae4339551202a926",
       "version_major": 2,
       "version_minor": 0
      },
      "text/plain": [
       "Downloading S3B_OL_1_EFR____20240318T095336_20240318T095636_20240318T225446_0179_091_022_1980_PS2_O_NT_003.SAF…"
      ]
     },
     "metadata": {},
     "output_type": "display_data"
    },
    {
     "data": {
      "application/vnd.jupyter.widget-view+json": {
       "model_id": "",
       "version_major": 2,
       "version_minor": 0
      },
      "text/plain": [
       "MD5 checksumming:   0%|          | 0.00/892M [00:00<?, ?B/s]"
      ]
     },
     "metadata": {},
     "output_type": "display_data"
    },
    {
     "data": {
      "application/vnd.jupyter.widget-view+json": {
       "model_id": "",
       "version_major": 2,
       "version_minor": 0
      },
      "text/plain": [
       "MD5 checksumming:   0%|          | 0.00/900M [00:00<?, ?B/s]"
      ]
     },
     "metadata": {},
     "output_type": "display_data"
    },
    {
     "name": "stdout",
     "output_type": "stream",
     "text": [
      "Extracted S3A_OL_1_EFR____20240318T103235_20240318T103535_20240319T105723_0179_110_165_1980_PS1_O_NT_003.SAFE.zip to /home/jovyan/earth-observations/notebooks/S3/L1/indre-oslofjord/2024/March/18\n",
      "Extracted S3B_OL_1_EFR____20240318T095336_20240318T095636_20240318T225446_0179_091_022_1980_PS2_O_NT_003.SAFE.zip to /home/jovyan/earth-observations/notebooks/S3/L1/indre-oslofjord/2024/March/18\n",
      "2024-03-19 : 2 products\n"
     ]
    },
    {
     "data": {
      "application/vnd.jupyter.widget-view+json": {
       "model_id": "c0bd8673b27e4e0c9136a58585a9c027",
       "version_major": 2,
       "version_minor": 0
      },
      "text/plain": [
       "Downloading products:   0%|          | 0/2 [00:00<?, ?product/s]"
      ]
     },
     "metadata": {},
     "output_type": "display_data"
    },
    {
     "data": {
      "application/vnd.jupyter.widget-view+json": {
       "model_id": "39e7b4420636490597f7964e0eb90211",
       "version_major": 2,
       "version_minor": 0
      },
      "text/plain": [
       "Downloading S3A_OL_1_EFR____20240319T100625_20240319T100925_20240320T102904_0180_110_179_1980_PS1_O_NT_003.SAF…"
      ]
     },
     "metadata": {},
     "output_type": "display_data"
    },
    {
     "data": {
      "application/vnd.jupyter.widget-view+json": {
       "model_id": "7e3257dd3a934bfdb442a9a5ab1012ed",
       "version_major": 2,
       "version_minor": 0
      },
      "text/plain": [
       "Downloading S3B_OL_1_EFR____20240319T092725_20240319T093025_20240319T204204_0179_091_036_1980_PS2_O_NT_003.SAF…"
      ]
     },
     "metadata": {},
     "output_type": "display_data"
    },
    {
     "data": {
      "application/vnd.jupyter.widget-view+json": {
       "model_id": "",
       "version_major": 2,
       "version_minor": 0
      },
      "text/plain": [
       "MD5 checksumming:   0%|          | 0.00/907M [00:00<?, ?B/s]"
      ]
     },
     "metadata": {},
     "output_type": "display_data"
    },
    {
     "data": {
      "application/vnd.jupyter.widget-view+json": {
       "model_id": "",
       "version_major": 2,
       "version_minor": 0
      },
      "text/plain": [
       "MD5 checksumming:   0%|          | 0.00/912M [00:00<?, ?B/s]"
      ]
     },
     "metadata": {},
     "output_type": "display_data"
    },
    {
     "name": "stdout",
     "output_type": "stream",
     "text": [
      "Extracted S3A_OL_1_EFR____20240319T100625_20240319T100925_20240320T102904_0180_110_179_1980_PS1_O_NT_003.SAFE.zip to /home/jovyan/earth-observations/notebooks/S3/L1/indre-oslofjord/2024/March/19\n",
      "Extracted S3B_OL_1_EFR____20240319T092725_20240319T093025_20240319T204204_0179_091_036_1980_PS2_O_NT_003.SAFE.zip to /home/jovyan/earth-observations/notebooks/S3/L1/indre-oslofjord/2024/March/19\n",
      "2024-03-20 : 2 products\n"
     ]
    },
    {
     "data": {
      "application/vnd.jupyter.widget-view+json": {
       "model_id": "3e9319fc73bb4470809db548da92bbdf",
       "version_major": 2,
       "version_minor": 0
      },
      "text/plain": [
       "Downloading products:   0%|          | 0/2 [00:00<?, ?product/s]"
      ]
     },
     "metadata": {},
     "output_type": "display_data"
    },
    {
     "data": {
      "application/vnd.jupyter.widget-view+json": {
       "model_id": "8cead0fc80724e34acbf52684d8105e4",
       "version_major": 2,
       "version_minor": 0
      },
      "text/plain": [
       "Downloading S3A_OL_1_EFR____20240320T094014_20240320T094314_20240321T100317_0180_110_193_1980_PS1_O_NT_003.SAF…"
      ]
     },
     "metadata": {},
     "output_type": "display_data"
    },
    {
     "data": {
      "application/vnd.jupyter.widget-view+json": {
       "model_id": "b6f479d196234eab980e78f6e23d8f23",
       "version_major": 2,
       "version_minor": 0
      },
      "text/plain": [
       "Downloading S3B_OL_1_EFR____20240320T104213_20240320T104513_20240320T230658_0180_091_051_1980_PS2_O_NT_003.SAF…"
      ]
     },
     "metadata": {},
     "output_type": "display_data"
    },
    {
     "data": {
      "application/vnd.jupyter.widget-view+json": {
       "model_id": "",
       "version_major": 2,
       "version_minor": 0
      },
      "text/plain": [
       "MD5 checksumming:   0%|          | 0.00/889M [00:00<?, ?B/s]"
      ]
     },
     "metadata": {},
     "output_type": "display_data"
    },
    {
     "data": {
      "application/vnd.jupyter.widget-view+json": {
       "model_id": "",
       "version_major": 2,
       "version_minor": 0
      },
      "text/plain": [
       "MD5 checksumming:   0%|          | 0.00/838M [00:00<?, ?B/s]"
      ]
     },
     "metadata": {},
     "output_type": "display_data"
    },
    {
     "name": "stdout",
     "output_type": "stream",
     "text": [
      "Extracted S3A_OL_1_EFR____20240320T094014_20240320T094314_20240321T100317_0180_110_193_1980_PS1_O_NT_003.SAFE.zip to /home/jovyan/earth-observations/notebooks/S3/L1/indre-oslofjord/2024/March/20\n",
      "Extracted S3B_OL_1_EFR____20240320T104213_20240320T104513_20240320T230658_0180_091_051_1980_PS2_O_NT_003.SAFE.zip to /home/jovyan/earth-observations/notebooks/S3/L1/indre-oslofjord/2024/March/20\n",
      "2024-03-21 : 2 products\n"
     ]
    },
    {
     "data": {
      "application/vnd.jupyter.widget-view+json": {
       "model_id": "3f4ec632cb904330b30b287c80c0a1cc",
       "version_major": 2,
       "version_minor": 0
      },
      "text/plain": [
       "Downloading products:   0%|          | 0/2 [00:00<?, ?product/s]"
      ]
     },
     "metadata": {},
     "output_type": "display_data"
    },
    {
     "data": {
      "application/vnd.jupyter.widget-view+json": {
       "model_id": "6350ff514a3f447980213b6e610564b2",
       "version_major": 2,
       "version_minor": 0
      },
      "text/plain": [
       "Downloading S3A_OL_1_EFR____20240321T091403_20240321T091703_20240322T093702_0179_110_207_1980_PS1_O_NT_003.SAF…"
      ]
     },
     "metadata": {},
     "output_type": "display_data"
    },
    {
     "data": {
      "application/vnd.jupyter.widget-view+json": {
       "model_id": "7ef5aacf925b403eaa653720bc77f12c",
       "version_major": 2,
       "version_minor": 0
      },
      "text/plain": [
       "Downloading S3B_OL_1_EFR____20240321T101602_20240321T101902_20240321T225407_0179_091_065_1980_PS2_O_NT_003.SAF…"
      ]
     },
     "metadata": {},
     "output_type": "display_data"
    },
    {
     "data": {
      "application/vnd.jupyter.widget-view+json": {
       "model_id": "",
       "version_major": 2,
       "version_minor": 0
      },
      "text/plain": [
       "MD5 checksumming:   0%|          | 0.00/892M [00:00<?, ?B/s]"
      ]
     },
     "metadata": {},
     "output_type": "display_data"
    },
    {
     "data": {
      "application/vnd.jupyter.widget-view+json": {
       "model_id": "",
       "version_major": 2,
       "version_minor": 0
      },
      "text/plain": [
       "MD5 checksumming:   0%|          | 0.00/847M [00:00<?, ?B/s]"
      ]
     },
     "metadata": {},
     "output_type": "display_data"
    },
    {
     "name": "stdout",
     "output_type": "stream",
     "text": [
      "Extracted S3A_OL_1_EFR____20240321T091403_20240321T091703_20240322T093702_0179_110_207_1980_PS1_O_NT_003.SAFE.zip to /home/jovyan/earth-observations/notebooks/S3/L1/indre-oslofjord/2024/March/21\n",
      "Extracted S3B_OL_1_EFR____20240321T101602_20240321T101902_20240321T225407_0179_091_065_1980_PS2_O_NT_003.SAFE.zip to /home/jovyan/earth-observations/notebooks/S3/L1/indre-oslofjord/2024/March/21\n",
      "Done!\n"
     ]
    }
   ],
   "source": [
    "download_S3_data(date(2024, 3, 18), date(2024, 3, 21), \"indre-oslofjord\")"
   ]
  },
  {
   "cell_type": "code",
   "execution_count": 76,
   "id": "3c12f0c0-98cf-44cf-bba8-a7fa63ea4126",
   "metadata": {
    "scrolled": true
   },
   "outputs": [],
   "source": [
    "# query_products(footprint, start_date, end_date, producttype)\n",
    "# api.download_all_quicklooks(products)\n",
    "# api.download_all(products)"
   ]
  },
  {
   "cell_type": "code",
   "execution_count": null,
   "id": "f4a7417c-2479-468a-bee4-55185a64118c",
   "metadata": {},
   "outputs": [],
   "source": []
  }
 ],
 "metadata": {
  "kernelspec": {
   "display_name": "Python 3 (ipykernel)",
   "language": "python",
   "name": "python3"
  },
  "language_info": {
   "codemirror_mode": {
    "name": "ipython",
    "version": 3
   },
   "file_extension": ".py",
   "mimetype": "text/x-python",
   "name": "python",
   "nbconvert_exporter": "python",
   "pygments_lexer": "ipython3",
   "version": "3.8.13"
  }
 },
 "nbformat": 4,
 "nbformat_minor": 5
}
