{
 "cells": [
  {
   "cell_type": "code",
   "execution_count": 1,
   "id": "1ae8949b-d4d8-49ca-9662-fba28fa6eb1f",
   "metadata": {},
   "outputs": [],
   "source": [
    "import os\n",
    "import shutil\n",
    "import zipfile\n",
    "from datetime import date\n",
    "from pathlib import Path\n",
    "from datetime import date, timedelta\n",
    "\n",
    "from sentinelsat import SentinelAPI, read_geojson, geojson_to_wkt, make_path_filter"
   ]
  },
  {
   "cell_type": "code",
   "execution_count": 3,
   "id": "4474e2da-e791-4b28-8d3f-1c71501baa02",
   "metadata": {},
   "outputs": [],
   "source": [
    "ROI_FOLDER = Path('/home/jovyan/earth-observations/notebooks/ROI')\n",
    "S3_ROOT_FOLDER = Path('/home/jovyan/earth-observations/notebooks')\n",
    "\n",
    "footprint = geojson_to_wkt(read_geojson(ROI_FOLDER / 'indre-oslofjord.geojson'))"
   ]
  },
  {
   "cell_type": "code",
   "execution_count": 4,
   "id": "af438c20-55da-4e83-abd3-ce189ae04daa",
   "metadata": {},
   "outputs": [],
   "source": [
    "# read env variables\n",
    "api = SentinelAPI(os.getenv(\"FIN_HUB_USER\"),\n",
    "                  os.getenv(\"FIN_HUB_PASSWORD\"),\n",
    "                  \"https://finhub.nsdc.fmi.fi/\")"
   ]
  },
  {
   "cell_type": "code",
   "execution_count": 5,
   "id": "97de62e7-492c-4346-a728-cb1fd5fe9b38",
   "metadata": {},
   "outputs": [],
   "source": [
    "def query_products(footprint, start_date, end_date, maxclouds=100):\n",
    "    \n",
    "    # path_filter = make_path_filter(\"_NT_\")\n",
    "\n",
    "    query_parameters = {'timeliness': 'Non-Time Critical'}\n",
    "\n",
    "    products = api.query(footprint,\n",
    "                         date=(start_date, end_date),\n",
    "                         # platformname='Sentinel-2', \n",
    "                         # cloudcoverpercentage=(0, 100),\n",
    "                         producttype='OL_1_EFR___', \n",
    "                         **query_parameters)\n",
    "\n",
    "    return products.keys()"
   ]
  },
  {
   "cell_type": "code",
   "execution_count": 6,
   "id": "20d3fc87-3137-4e37-91aa-8c8768689fda",
   "metadata": {},
   "outputs": [],
   "source": [
    "def move_downloaded_files(destination_folder, roi, delete_zip=True):\n",
    "        \n",
    "    for zip_file in S3_ROOT_FOLDER.glob('*.zip'):\n",
    "        try:\n",
    "            \n",
    "            # Create the destination folder if it doesn't exist\n",
    "            destination_folder.mkdir(parents=True, exist_ok=True)\n",
    "\n",
    "            # Move the ZIP file to the destination folder\n",
    "            moved_zip_path = destination_folder / zip_file.name\n",
    "            shutil.move(str(zip_file), moved_zip_path)\n",
    "            \n",
    "            # print(f\"Moved {zip_file.name} to {destination_folder}\")\n",
    "            # Extract the ZIP file in the destination folder\n",
    "            with zipfile.ZipFile(moved_zip_path, 'r') as zip_ref:\n",
    "                zip_ref.extractall(destination_folder)\n",
    "                print(f\"Extracted {zip_file.name} to {destination_folder}\")\n",
    "\n",
    "                \n",
    "            if delete_zip:\n",
    "                # Delete the ZIP file after extraction\n",
    "                moved_zip_path.unlink()\n",
    "                # print(f\"Deleted {moved_zip_path.name} after extraction\")\n",
    "                \n",
    "        except ValueError as e:\n",
    "            print(f\"Skipping {zip_file.name}: {e}\")"
   ]
  },
  {
   "cell_type": "code",
   "execution_count": 7,
   "id": "1b5c0b9b-ee0e-41cd-8fc2-3cf4f954c542",
   "metadata": {},
   "outputs": [],
   "source": [
    "def download_S3_data(start_date, end_date, roi):\n",
    "     \n",
    "    delta = end_date - start_date\n",
    "    \n",
    "    # Iterate over each day in the range\n",
    "    for i in range(delta.days + 1):\n",
    "        \n",
    "        current_date = start_date + timedelta(days=i)\n",
    "        \n",
    "        # Extract metadata from the filename\n",
    "        year, month, day =  str(current_date.year), current_date.strftime('%B'), str(current_date.day)\n",
    "        \n",
    "        # Construct the destination folder path\n",
    "        destination_folder = S3_ROOT_FOLDER / 'S3' / 'L1' / roi / year / month / day\n",
    "        \n",
    "        # Create the destination folder if it doesn't exist\n",
    "        if destination_folder.exists() and any(destination_folder.iterdir()):\n",
    "            print(f\"Skipping download. Destination folder {destination_folder} already exists and is not empty\")\n",
    "            continue\n",
    "        \n",
    "        products = query_products(footprint, current_date, current_date + timedelta(days=1))\n",
    "        \n",
    "        print(current_date, \": \" + str(len(products)) + \" products\")\n",
    "        \n",
    "        api.download_all(products)\n",
    "        \n",
    "        move_downloaded_files(destination_folder, roi)\n",
    "    \n",
    "    print(\"Done!\")"
   ]
  },
  {
   "cell_type": "code",
   "execution_count": 11,
   "id": "8723f493-44b1-46ff-a0d8-23dfb2d9306f",
   "metadata": {},
   "outputs": [
    {
     "name": "stdout",
     "output_type": "stream",
     "text": [
      "2024-03-23 : 2 products\n"
     ]
    },
    {
     "data": {
      "application/vnd.jupyter.widget-view+json": {
       "model_id": "de492b7addf146efb587cdab8486b237",
       "version_major": 2,
       "version_minor": 0
      },
      "text/plain": [
       "Downloading products:   0%|          | 0/2 [00:00<?, ?product/s]"
      ]
     },
     "metadata": {},
     "output_type": "display_data"
    },
    {
     "data": {
      "application/vnd.jupyter.widget-view+json": {
       "model_id": "ca85b3397917445fb3a81c2e072a8b2a",
       "version_major": 2,
       "version_minor": 0
      },
      "text/plain": [
       "Downloading S3B_OL_1_EFR____20240323T092340_20240323T092640_20240323T203932_0179_091_093_1980_PS2_O_NT_003.SAF…"
      ]
     },
     "metadata": {},
     "output_type": "display_data"
    },
    {
     "data": {
      "application/vnd.jupyter.widget-view+json": {
       "model_id": "b11be09e2b684c2db4c473373173f9d8",
       "version_major": 2,
       "version_minor": 0
      },
      "text/plain": [
       "Downloading S3A_OL_1_EFR____20240323T100241_20240323T100541_20240324T102525_0179_110_236_1980_PS1_O_NT_003.SAF…"
      ]
     },
     "metadata": {},
     "output_type": "display_data"
    },
    {
     "data": {
      "application/vnd.jupyter.widget-view+json": {
       "model_id": "",
       "version_major": 2,
       "version_minor": 0
      },
      "text/plain": [
       "MD5 checksumming:   0%|          | 0.00/920M [00:00<?, ?B/s]"
      ]
     },
     "metadata": {},
     "output_type": "display_data"
    },
    {
     "data": {
      "application/vnd.jupyter.widget-view+json": {
       "model_id": "",
       "version_major": 2,
       "version_minor": 0
      },
      "text/plain": [
       "MD5 checksumming:   0%|          | 0.00/974M [00:00<?, ?B/s]"
      ]
     },
     "metadata": {},
     "output_type": "display_data"
    },
    {
     "name": "stdout",
     "output_type": "stream",
     "text": [
      "Extracted S3A_OL_1_EFR____20240323T100241_20240323T100541_20240324T102525_0179_110_236_1980_PS1_O_NT_003.SAFE.zip to /home/jovyan/earth-observations/notebooks/S3/L1/IO/2024/March/23\n",
      "Extracted S3B_OL_1_EFR____20240323T092340_20240323T092640_20240323T203932_0179_091_093_1980_PS2_O_NT_003.SAFE.zip to /home/jovyan/earth-observations/notebooks/S3/L1/IO/2024/March/23\n",
      "Done!\n"
     ]
    }
   ],
   "source": [
    "download_S3_data(date(2024, 3, 23), date(2024, 3, 23), \"IO\")"
   ]
  },
  {
   "cell_type": "code",
   "execution_count": 76,
   "id": "3c12f0c0-98cf-44cf-bba8-a7fa63ea4126",
   "metadata": {
    "scrolled": true
   },
   "outputs": [],
   "source": [
    "# query_products(footprint, start_date, end_date, producttype)\n",
    "# api.download_all_quicklooks(products)\n",
    "# api.download_all(products)"
   ]
  },
  {
   "cell_type": "code",
   "execution_count": null,
   "id": "f4a7417c-2479-468a-bee4-55185a64118c",
   "metadata": {},
   "outputs": [],
   "source": []
  }
 ],
 "metadata": {
  "kernelspec": {
   "display_name": "Python 3 (ipykernel)",
   "language": "python",
   "name": "python3"
  },
  "language_info": {
   "codemirror_mode": {
    "name": "ipython",
    "version": 3
   },
   "file_extension": ".py",
   "mimetype": "text/x-python",
   "name": "python",
   "nbconvert_exporter": "python",
   "pygments_lexer": "ipython3",
   "version": "3.8.13"
  }
 },
 "nbformat": 4,
 "nbformat_minor": 5
}
